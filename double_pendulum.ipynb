{
 "cells": [
  {
   "cell_type": "code",
   "execution_count": 36,
   "id": "dbdd7fbf-36b4-474d-bfa9-ce13c89b12e1",
   "metadata": {},
   "outputs": [],
   "source": [
    "import pinocchio as pin\n",
    "import numpy as np\n",
    "import sys\n",
    "import time\n",
    "import os\n",
    "from os.path import dirname, join, abspath\n",
    "from pinocchio.utils import *\n",
    "import crocoddyl\n",
    "\n",
    "from pinocchio.visualize import MeshcatVisualizer"
   ]
  },
  {
   "cell_type": "code",
   "execution_count": 124,
   "id": "b049bad2",
   "metadata": {},
   "outputs": [],
   "source": [
    "# Load the URDF model.\n",
    "\n",
    "#pinocchio_model_dir = dirname(dirname(str(abspath(__file__))))\n",
    "pinocchio_model_dir = os.path.dirname(sys.executable)\n",
    "\n",
    "model_path = join(pinocchio_model_dir, \"example-robot-data/robots\")\n",
    "mesh_dir = pinocchio_model_dir\n",
    "\n",
    "\n",
    "urdf_model_path='/Users/dkuzovlev/Documents/Robots/pinocchio-tutorial-master/dp_1_1.urdf'\n",
    "\n",
    "model, collision_model, visual_model = pin.buildModelsFromUrdf(\n",
    "    urdf_model_path, mesh_dir#, pin.JointModelFreeFlyer()\n",
    ")\n",
    "data = model.createData()\n",
    "\n",
    "#urdf_model2_path='/Users/dkuzovlev/Documents/Robots/pinocchio-tutorial-master/dp_3_2.urdf'\n",
    "#model2, collision_model2, visual_model2 = pin.buildModelsFromUrdf(urdf_model2_path, mesh_dir#, pin.JointModelFreeFlyer())\n",
    "#data2 = model2.createData()\n"
   ]
  },
  {
   "cell_type": "code",
   "execution_count": 125,
   "id": "32a10c2f-8a37-41d8-b074-f9eec3469b71",
   "metadata": {},
   "outputs": [
    {
     "name": "stdout",
     "output_type": "stream",
     "text": [
      "You can open the visualizer by visiting the following URL:\n",
      "http://127.0.0.1:7029/static/\n"
     ]
    }
   ],
   "source": [
    "#Meshcat initialisation (dependency: pip install meshcat)\n",
    "\n",
    "try:\n",
    "    viz = MeshcatVisualizer(model, collision_model, visual_model)\n",
    "except ImportError as err:\n",
    "    print(\n",
    "            \"Error while initializing the viewer. It seems you should install Python meshcat\"\n",
    "        )\n",
    "    print(err)\n",
    "    sys.exit(0)\n",
    "\n",
    "viz.initViewer(open=True)\n",
    "\n"
   ]
  },
  {
   "cell_type": "code",
   "execution_count": 129,
   "id": "92f7f85f",
   "metadata": {},
   "outputs": [
    {
     "name": "stdout",
     "output_type": "stream",
     "text": [
      "Center of Mass: [0.35441148 0.         0.47162584]\n"
     ]
    }
   ],
   "source": [
    "#display random configuration\n",
    "q0 = pin.neutral(model)\n",
    "q1 = pin.randomConfiguration(model)\n",
    "v1 = np.random.randn(model.nv)\n",
    "\n",
    "# Load the robot in the viewer.\n",
    "viz.loadViewerModel()\n",
    "# Display a robot configuration.\n",
    "viz.displayVisuals(True)\n",
    "viz.display(q1)\n",
    "\n",
    "com = pin.centerOfMass(model, data, q1)\n",
    "\n",
    "print(\"Center of Mass:\", com)\n"
   ]
  },
  {
   "cell_type": "code",
   "execution_count": 131,
   "id": "b4482340",
   "metadata": {},
   "outputs": [
    {
     "ename": "KeyboardInterrupt",
     "evalue": "",
     "output_type": "error",
     "traceback": [
      "\u001b[0;31m---------------------------------------------------------------------------\u001b[0m",
      "\u001b[0;31mKeyboardInterrupt\u001b[0m                         Traceback (most recent call last)",
      "Cell \u001b[0;32mIn[131], line 32\u001b[0m\n\u001b[1;32m     30\u001b[0m         \u001b[38;5;66;03m#viz.drawFrameVelocities(frame_id=frame_id)\u001b[39;00m\n\u001b[1;32m     31\u001b[0m     \u001b[38;5;28;01mreturn\u001b[39;00m qs, vs\n\u001b[0;32m---> 32\u001b[0m qs, vs \u001b[38;5;241m=\u001b[39m \u001b[43msim_loop\u001b[49m\u001b[43m(\u001b[49m\u001b[43m)\u001b[49m \n",
      "Cell \u001b[0;32mIn[131], line 29\u001b[0m, in \u001b[0;36msim_loop\u001b[0;34m()\u001b[0m\n\u001b[1;32m     27\u001b[0m     vs\u001b[38;5;241m.\u001b[39mappend(vnext)\n\u001b[1;32m     28\u001b[0m     viz\u001b[38;5;241m.\u001b[39mdisplay(qnext)\n\u001b[0;32m---> 29\u001b[0m     \u001b[43mtime\u001b[49m\u001b[38;5;241;43m.\u001b[39;49m\u001b[43msleep\u001b[49m\u001b[43m(\u001b[49m\u001b[38;5;241;43m0.01\u001b[39;49m\u001b[43m)\u001b[49m\n\u001b[1;32m     30\u001b[0m     \u001b[38;5;66;03m#viz.drawFrameVelocities(frame_id=frame_id)\u001b[39;00m\n\u001b[1;32m     31\u001b[0m \u001b[38;5;28;01mreturn\u001b[39;00m qs, vs\n",
      "\u001b[0;31mKeyboardInterrupt\u001b[0m: "
     ]
    }
   ],
   "source": [
    "\n",
    "# Motion\n",
    "\n",
    "q1 = pin.randomConfiguration(model)\n",
    "v1 = np.random.randn(model.nv)\n",
    "v1=v1*2\n",
    "data = viz.data\n",
    "             \n",
    "\n",
    "\n",
    "model.gravity.linear = np.array([0, 0, -9.81])\n",
    "dt = 0.01\n",
    " \n",
    " \n",
    "def sim_loop():\n",
    "    tau0 = np.zeros(model.nv) #Joint torques\n",
    "    qs = [q1]\n",
    "    vs = [v1] #Joint velocities\n",
    "    nsteps = 10000\n",
    "    for i in range(nsteps):\n",
    "        q = qs[i]\n",
    "        v = vs[i] \n",
    "        a1 = pin.aba(model, data, q, v, tau0) #joint acceleration (a).\n",
    "        vnext = v + dt * a1\n",
    "        qnext = pin.integrate(model, q, dt * vnext) # The integrate method takes the current joint configuration (q) and a small increment in the joint velocities (dq) and computes the new configuration (q'). This method allows you to move from one configuration to another based on the robot’s kinematics.\n",
    "        qs.append(qnext)\n",
    "        vs.append(vnext)\n",
    "        viz.display(qnext)\n",
    "        time.sleep(0.01)\n",
    "        #viz.drawFrameVelocities(frame_id=frame_id)\n",
    "    return qs, vs\n",
    "qs, vs = sim_loop() "
   ]
  }
 ],
 "metadata": {
  "kernelspec": {
   "display_name": "Python 3",
   "language": "python",
   "name": "python3"
  },
  "language_info": {
   "codemirror_mode": {
    "name": "ipython",
    "version": 3
   },
   "file_extension": ".py",
   "mimetype": "text/x-python",
   "name": "python",
   "nbconvert_exporter": "python",
   "pygments_lexer": "ipython3",
   "version": "3.12.4"
  }
 },
 "nbformat": 4,
 "nbformat_minor": 5
}
